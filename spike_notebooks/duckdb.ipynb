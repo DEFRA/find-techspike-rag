{
 "cells": [
  {
   "cell_type": "code",
   "execution_count": 10,
   "metadata": {},
   "outputs": [
    {
     "name": "stdout",
     "output_type": "stream",
     "text": [
      "[('raw_documents',)]\n",
      "                                                    id  \\\n",
      "0    hef5-control-scrub-on-historic-and-archaeologi...   \n",
      "1    prf2-camera-or-remote-sensor-guided-herbicide-...   \n",
      "2         grh11-cattle-grazing-supplement-non-moorland   \n",
      "3     bfs3-buffer-in-field-ponds-on-improved-grassland   \n",
      "4    cipm4-no-use-of-insecticide-on-arable-crops-an...   \n",
      "..                                                 ...   \n",
      "96                      wbd9-nil-fertiliser-supplement   \n",
      "97           soh2-multi-species-spring-sown-cover-crop   \n",
      "98   cipm2-flower-rich-grass-margins-blocks-or-in-f...   \n",
      "99   wbd5-manage-intensive-grassland-adjacent-to-a-...   \n",
      "100       cigl2-winter-bird-food-on-improved-grassland   \n",
      "\n",
      "                                              filename  \\\n",
      "0    hef5-control-scrub-on-historic-and-archaeologi...   \n",
      "1    prf2-camera-or-remote-sensor-guided-herbicide-...   \n",
      "2     grh11-cattle-grazing-supplement-non-moorland.txt   \n",
      "3    bfs3-buffer-in-field-ponds-on-improved-grassla...   \n",
      "4    cipm4-no-use-of-insecticide-on-arable-crops-an...   \n",
      "..                                                 ...   \n",
      "96                  wbd9-nil-fertiliser-supplement.txt   \n",
      "97       soh2-multi-species-spring-sown-cover-crop.txt   \n",
      "98   cipm2-flower-rich-grass-margins-blocks-or-in-f...   \n",
      "99   wbd5-manage-intensive-grassland-adjacent-to-a-...   \n",
      "100   cigl2-winter-bird-food-on-improved-grassland.txt   \n",
      "\n",
      "                                               content  \\\n",
      "0    This is an action in the Sustainable Farming I...   \n",
      "1    This is an action in the Sustainable Farming I...   \n",
      "2    This is an action in the Sustainable Farming I...   \n",
      "3    This is an action in the Sustainable Farming I...   \n",
      "4    This is an action in the Sustainable Farming I...   \n",
      "..                                                 ...   \n",
      "96   This is an action in the Sustainable Farming I...   \n",
      "97   This is an action in the Sustainable Farming I...   \n",
      "98   This is an action in the Sustainable Farming I...   \n",
      "99   This is an action in the Sustainable Farming I...   \n",
      "100  This is an action in the Sustainable Farming I...   \n",
      "\n",
      "                    created_at  \n",
      "0   2024-11-13 15:24:03.369861  \n",
      "1   2024-11-13 15:24:03.370026  \n",
      "2   2024-11-13 15:24:03.370159  \n",
      "3   2024-11-13 15:24:03.370288  \n",
      "4   2024-11-13 15:24:03.370418  \n",
      "..                         ...  \n",
      "96  2024-11-13 15:24:03.382421  \n",
      "97  2024-11-13 15:24:03.382530  \n",
      "98  2024-11-13 15:24:03.382640  \n",
      "99  2024-11-13 15:24:03.382759  \n",
      "100 2024-11-13 15:24:03.382868  \n",
      "\n",
      "[101 rows x 4 columns]\n"
     ]
    }
   ],
   "source": [
    "import duckdb\n",
    "\n",
    "# Connect to the database\n",
    "con = duckdb.connect('/Users/adamfletcher/Documents/GitHub/find-techspike-rag/my_document_processor.duckdb')\n",
    "\n",
    "\n",
    "\n",
    "# List all tables\n",
    "print(con.execute(\"SHOW TABLES\").fetchall())\n",
    "\n",
    "# Query a specific model\n",
    "results = con.execute(\"SELECT * FROM raw_documents\").fetchdf()\n",
    "print(results)\n",
    "\n",
    "con.close()"
   ]
  },
  {
   "cell_type": "code",
   "execution_count": null,
   "metadata": {},
   "outputs": [],
   "source": []
  }
 ],
 "metadata": {
  "kernelspec": {
   "display_name": ".venv",
   "language": "python",
   "name": "python3"
  },
  "language_info": {
   "codemirror_mode": {
    "name": "ipython",
    "version": 3
   },
   "file_extension": ".py",
   "mimetype": "text/x-python",
   "name": "python",
   "nbconvert_exporter": "python",
   "pygments_lexer": "ipython3",
   "version": "3.12.7"
  }
 },
 "nbformat": 4,
 "nbformat_minor": 2
}
