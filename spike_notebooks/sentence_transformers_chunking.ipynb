{
 "cells": [
  {
   "cell_type": "code",
   "execution_count": 20,
   "metadata": {},
   "outputs": [
    {
     "data": {
      "application/vnd.jupyter.widget-view+json": {
       "model_id": "d8964baf9ee04fecac77eeb88b4cff0a",
       "version_major": 2,
       "version_minor": 0
      },
      "text/plain": [
       "modules.json:   0%|          | 0.00/349 [00:00<?, ?B/s]"
      ]
     },
     "metadata": {},
     "output_type": "display_data"
    },
    {
     "data": {
      "application/vnd.jupyter.widget-view+json": {
       "model_id": "235f60efc5214ade892ef790bbe937e6",
       "version_major": 2,
       "version_minor": 0
      },
      "text/plain": [
       "config_sentence_transformers.json:   0%|          | 0.00/116 [00:00<?, ?B/s]"
      ]
     },
     "metadata": {},
     "output_type": "display_data"
    },
    {
     "data": {
      "application/vnd.jupyter.widget-view+json": {
       "model_id": "66d9ddf385164265bc7dae6e9305fdfe",
       "version_major": 2,
       "version_minor": 0
      },
      "text/plain": [
       "README.md:   0%|          | 0.00/10.6k [00:00<?, ?B/s]"
      ]
     },
     "metadata": {},
     "output_type": "display_data"
    },
    {
     "data": {
      "application/vnd.jupyter.widget-view+json": {
       "model_id": "e53625b38171477f9b45c45c4545c001",
       "version_major": 2,
       "version_minor": 0
      },
      "text/plain": [
       "sentence_bert_config.json:   0%|          | 0.00/53.0 [00:00<?, ?B/s]"
      ]
     },
     "metadata": {},
     "output_type": "display_data"
    },
    {
     "data": {
      "application/vnd.jupyter.widget-view+json": {
       "model_id": "52edd1e3163643228558b2bd58c3ce33",
       "version_major": 2,
       "version_minor": 0
      },
      "text/plain": [
       "config.json:   0%|          | 0.00/571 [00:00<?, ?B/s]"
      ]
     },
     "metadata": {},
     "output_type": "display_data"
    },
    {
     "data": {
      "application/vnd.jupyter.widget-view+json": {
       "model_id": "a69da5e1ffb44592a8d171dd12cb0634",
       "version_major": 2,
       "version_minor": 0
      },
      "text/plain": [
       "model.safetensors:   0%|          | 0.00/438M [00:00<?, ?B/s]"
      ]
     },
     "metadata": {},
     "output_type": "display_data"
    },
    {
     "data": {
      "application/vnd.jupyter.widget-view+json": {
       "model_id": "136af297c4af4782824f9c055548d86b",
       "version_major": 2,
       "version_minor": 0
      },
      "text/plain": [
       "tokenizer_config.json:   0%|          | 0.00/363 [00:00<?, ?B/s]"
      ]
     },
     "metadata": {},
     "output_type": "display_data"
    },
    {
     "data": {
      "application/vnd.jupyter.widget-view+json": {
       "model_id": "a9b3abfaae254f2e868e5f67a509ffd8",
       "version_major": 2,
       "version_minor": 0
      },
      "text/plain": [
       "vocab.txt:   0%|          | 0.00/232k [00:00<?, ?B/s]"
      ]
     },
     "metadata": {},
     "output_type": "display_data"
    },
    {
     "data": {
      "application/vnd.jupyter.widget-view+json": {
       "model_id": "9a18cdec73d5477d91ab108d9b674141",
       "version_major": 2,
       "version_minor": 0
      },
      "text/plain": [
       "tokenizer.json:   0%|          | 0.00/466k [00:00<?, ?B/s]"
      ]
     },
     "metadata": {},
     "output_type": "display_data"
    },
    {
     "data": {
      "application/vnd.jupyter.widget-view+json": {
       "model_id": "63f79f5983e342a183009a1b0926ec0b",
       "version_major": 2,
       "version_minor": 0
      },
      "text/plain": [
       "special_tokens_map.json:   0%|          | 0.00/239 [00:00<?, ?B/s]"
      ]
     },
     "metadata": {},
     "output_type": "display_data"
    },
    {
     "data": {
      "application/vnd.jupyter.widget-view+json": {
       "model_id": "ea3e94397b7340b4922d2171dac44946",
       "version_major": 2,
       "version_minor": 0
      },
      "text/plain": [
       "1_Pooling/config.json:   0%|          | 0.00/190 [00:00<?, ?B/s]"
      ]
     },
     "metadata": {},
     "output_type": "display_data"
    }
   ],
   "source": [
    "from sentence_transformers import SentenceTransformer\n",
    "from sklearn.cluster import AgglomerativeClustering\n",
    "import numpy as np\n",
    "from pathlib import Path\n",
    "import os\n",
    "\n",
    "\n",
    "# Get the project root directory and data path\n",
    "project_root = Path.cwd().parent  # Go up one level from notebooks directory\n",
    "data_dir = project_root / \"data\" / \"actions\"\n",
    "\n",
    "# Get the first text file\n",
    "text_files = [f for f in os.listdir(data_dir) if f.endswith('.txt')]\n",
    "first_file = os.path.join(data_dir, text_files[0])\n",
    "\n",
    "# Read the contents\n",
    "with open(first_file, 'r') as f:\n",
    "    text = f.read()\n",
    "\n",
    "\n",
    "\n",
    "# Initialize the SBERT model - using a larger, more accurate model\n",
    "model = SentenceTransformer('all-mpnet-base-v2')\n",
    "\n",
    "# Split document into sentences (this example assumes sentences are separated by newlines)\n",
    "sentences = text.split(\".\")\n",
    "sentences = [sentence.strip() for sentence in sentences if sentence.strip()]\n",
    "\n",
    "# Generate embeddings for each sentence\n",
    "sentence_embeddings = model.encode(sentences)\n",
    "\n",
    "# Perform clustering on sentence embeddings to find semantically similar sentences\n",
    "# Adjust `n_clusters` or `distance_threshold` based on desired chunking\n",
    "clustering_model = AgglomerativeClustering(n_clusters=8)\n",
    "clustering_model.fit(sentence_embeddings)\n",
    "\n",
    "# Group sentences by cluster\n",
    "clusters = {}\n",
    "for sentence_id, cluster_id in enumerate(clustering_model.labels_):\n",
    "    if cluster_id not in clusters:\n",
    "        clusters[cluster_id] = []\n",
    "    clusters[cluster_id].append(sentences[sentence_id])\n",
    "\n",
    "# # Display the semantic chunks\n",
    "# for cluster_id, cluster_sentences in clusters.items():\n",
    "#     print(f\"Chunk {cluster_id + 1}:\")\n",
    "#     for sentence in cluster_sentences:\n",
    "#         print(f\" - {sentence}\")\n",
    "#     print(\"\\n\")\n",
    "\n",
    "\n",
    "# from rake_nltk import Rake\n",
    "# # Initialize RAKE\n",
    "# rake = Rake()\n",
    "\n",
    "# # Display the semantic chunks with keyword topics\n",
    "# for cluster_id, cluster_sentences in clusters.items():\n",
    "#     # Join all sentences in cluster\n",
    "#     cluster_text = \" \".join(cluster_sentences)\n",
    "    \n",
    "#     # Extract keywords\n",
    "#     rake.extract_keywords_from_text(cluster_text)\n",
    "#     keywords = rake.get_ranked_phrases()[:3]  # Get top 3 keyword phrases\n",
    "#     topic = \" | \".join(keywords)\n",
    "    \n",
    "#     print(f\"\\nChunk {cluster_id + 1} - Keywords: {topic}\")\n",
    "#     print(\"-\" * 80)\n",
    "#     for sentence in cluster_sentences:\n",
    "#         print(f\" - {sentence}\")\n",
    "#     print()"
   ]
  },
  {
   "cell_type": "code",
   "execution_count": 24,
   "metadata": {},
   "outputs": [
    {
     "name": "stdout",
     "output_type": "stream",
     "text": [
      "\n",
      "Chunk 2 - Topic: 'Sustainable Farming Incentive Scheme Guidelines'\n",
      "--------------------------------------------------------------------------------\n",
      " - This is an action in the Sustainable Farming Incentive (SFI) scheme: expanded offer for 2024\n",
      " - You must read the SFI scheme information to understand the scheme rules and how to apply\n",
      " - Read section 6 ‘Eligible land in other funding schemes’ for more information\n",
      "\n",
      "\n",
      "\n",
      "Chunk 3 - Topic: Land Management and Conservation Policy\n",
      "--------------------------------------------------------------------------------\n",
      " - 5 years £215 per hectare (ha) per year This action’s aim is that there’s a well-managed, intact grass sward growing over the historic or archaeological feature throughout the year, with minimal scrub cover and bare ground\n",
      " - The purpose of this is to: You can do this action on land located above and below the moorland line that’s: Total or part of the available area in a land parcel\n",
      " - You must manage the area containing the historic or archaeological feature in a way that can reasonably be expected to achieve this action’s aim\n",
      " - This includes: You must not: Before you remove scrub or trees, you must get any relevant consents, such as: You must do this action from its start date, throughout each year of this action’s 5-year duration\n",
      "\n",
      "\n",
      "\n",
      "Chunk 8 - Topic: Action Status\n",
      "--------------------------------------------------------------------------------\n",
      " - This action is static\n",
      "\n",
      "\n",
      "\n",
      "Chunk 1 - Topic: 'Action Timing and Location Requirements'\n",
      "--------------------------------------------------------------------------------\n",
      " - This means you must do it at the same location each year of this action’s duration\n",
      " - Some actions or options can only be done on the same area if they’re done at a different time of year to this action\n",
      " - Read ‘What to do’ and ‘When to do it’ to find out when this action must be done\n",
      "\n",
      "\n",
      "\n",
      "Chunk 6 - Topic: 'Guidance and Implementation Timeline'\n",
      "--------------------------------------------------------------------------------\n",
      " - It’s up to you how you do this action, as long as you: Advice to help you do this action will be published before applications are fully launched from summer 2024\n",
      " - It will not be part of this action’s requirements\n",
      "\n",
      "\n",
      "\n",
      "Chunk 4 - Topic: 'Evidence and Compliance Requirements'\n",
      "--------------------------------------------------------------------------------\n",
      " - You must keep evidence to show what you’ve done to complete this action, such as: If it’s not clear that you’ve done this action in a way that could reasonably be expected to achieve its aim, we may ask for this evidence\n",
      " - You must supply the evidence if we ask for it\n",
      "\n",
      "\n",
      "\n",
      "Chunk 5 - Topic: 'Land Parcel Management Options'\n",
      "--------------------------------------------------------------------------------\n",
      " - You can do the following actions or options on the same area in a land parcel as this action\n",
      " - If an action or option cannot be located on the same area, you may be able to do it on a different area in the same land parcel\n",
      " - You can do the following actions or options on the eligible boundaries of a land parcel entered into this action: Don’t include personal or financial information like your National Insurance number or credit card details\n",
      "\n",
      "\n",
      "\n",
      "Chunk 7 - Topic: Crop Rotation Practices\n",
      "--------------------------------------------------------------------------------\n",
      " - For example, winter cover followed by a summer companion crop\n",
      "\n",
      "\n"
     ]
    }
   ],
   "source": [
    "from openai import OpenAI\n",
    "client = OpenAI()\n",
    "\n",
    "def get_topic_summary(text):\n",
    "    response = client.chat.completions.create(\n",
    "        model=\"gpt-4o\",\n",
    "        messages=[\n",
    "            {\n",
    "                \"role\": \"system\",\n",
    "                \"content\": \"\"\"You are a topic modeling assistant which determines the main message from a set of similar sentences extracted from a Defra policy document. \n",
    "                Generate a very brief topic that captures the main theme of the text.\n",
    "                \n",
    "                Example:\n",
    "                Input: ' - 5 years £215 per hectare (ha) per year This actions aim is that there’s a well-managed, intact grass sward growing over the historic or archaeological feature throughout the year, with minimal scrub cover and bare ground'\n",
    "                Output: 'Pricing and Policy Aims'\n",
    "                \"\"\"\n",
    "            },\n",
    "            {\n",
    "                \"role\": \"user\",\n",
    "                \"content\": f\"Generate a brief topic for this text: {text}\"\n",
    "            }\n",
    "        ],\n",
    "        temperature=0.3,\n",
    "        max_tokens=20\n",
    "    )\n",
    "    return response.choices[0].message.content.strip()\n",
    "\n",
    "# Display chunks with LLM-generated topics and optionally save to file and prepare for vector DB\n",
    "def display_chunks(clusters, save_to_file=False):\n",
    "    documents = []\n",
    "    for cluster_id, cluster_sentences in clusters.items():\n",
    "        cluster_text = \" \".join(cluster_sentences)\n",
    "        topic = get_topic_summary(cluster_text)\n",
    "        \n",
    "        output = f\"\\nChunk {cluster_id + 1} - Topic: {topic}\\n\"\n",
    "        output += \"-\" * 80 + \"\\n\"\n",
    "        for sentence in cluster_sentences:\n",
    "            output += f\" - {sentence}\\n\"\n",
    "        output += \"\\n\"\n",
    "        \n",
    "        print(output)  # Print to console\n",
    "        \n",
    "        if save_to_file:\n",
    "            with open('chunk_topics.txt', 'a') as f:\n",
    "                f.write(output)  # Write to file\n",
    "                \n",
    "        # Prepare document for vector DB\n",
    "        doc = {\n",
    "            \"id\": f\"chunk_{cluster_id + 1}\", # Add 1 to match chunk numbering\n",
    "            \"content\": cluster_text,\n",
    "            \"metadata\": {\n",
    "                \"topic\": topic,\n",
    "                \"chunk_id\": cluster_id\n",
    "            }\n",
    "        }\n",
    "        documents.append(doc)\n",
    "    \n",
    "    return documents  # Return documents ready for Chroma ingestion\n",
    "\n",
    "# Call with save_to_file=True to save output\n",
    "documents = display_chunks(clusters, save_to_file=False)"
   ]
  },
  {
   "cell_type": "code",
   "execution_count": 25,
   "metadata": {},
   "outputs": [
    {
     "data": {
      "text/plain": [
       "[{'id': 'chunk_2',\n",
       "  'content': 'This is an action in the Sustainable Farming Incentive (SFI) scheme: expanded offer for 2024 You must read the SFI scheme information to understand the scheme rules and how to apply Read section 6 ‘Eligible land in other funding schemes’ for more information',\n",
       "  'metadata': {'topic': \"'Sustainable Farming Incentive Scheme Guidelines'\",\n",
       "   'chunk_id': np.int64(1)}},\n",
       " {'id': 'chunk_3',\n",
       "  'content': '5 years £215 per hectare (ha) per year This action’s aim is that there’s a well-managed, intact grass sward growing over the historic or archaeological feature throughout the year, with minimal scrub cover and bare ground The purpose of this is to: You can do this action on land located above and below the moorland line that’s: Total or part of the available area in a land parcel You must manage the area containing the historic or archaeological feature in a way that can reasonably be expected to achieve this action’s aim This includes: You must not: Before you remove scrub or trees, you must get any relevant consents, such as: You must do this action from its start date, throughout each year of this action’s 5-year duration',\n",
       "  'metadata': {'topic': 'Land Management and Conservation Policy',\n",
       "   'chunk_id': np.int64(2)}},\n",
       " {'id': 'chunk_8',\n",
       "  'content': 'This action is static',\n",
       "  'metadata': {'topic': 'Action Status', 'chunk_id': np.int64(7)}},\n",
       " {'id': 'chunk_1',\n",
       "  'content': 'This means you must do it at the same location each year of this action’s duration Some actions or options can only be done on the same area if they’re done at a different time of year to this action Read ‘What to do’ and ‘When to do it’ to find out when this action must be done',\n",
       "  'metadata': {'topic': \"'Action Timing and Location Requirements'\",\n",
       "   'chunk_id': np.int64(0)}},\n",
       " {'id': 'chunk_6',\n",
       "  'content': 'It’s up to you how you do this action, as long as you: Advice to help you do this action will be published before applications are fully launched from summer 2024 It will not be part of this action’s requirements',\n",
       "  'metadata': {'topic': \"'Guidance and Implementation Timeline'\",\n",
       "   'chunk_id': np.int64(5)}},\n",
       " {'id': 'chunk_4',\n",
       "  'content': 'You must keep evidence to show what you’ve done to complete this action, such as: If it’s not clear that you’ve done this action in a way that could reasonably be expected to achieve its aim, we may ask for this evidence You must supply the evidence if we ask for it',\n",
       "  'metadata': {'topic': \"'Evidence and Compliance Requirements'\",\n",
       "   'chunk_id': np.int64(3)}},\n",
       " {'id': 'chunk_5',\n",
       "  'content': 'You can do the following actions or options on the same area in a land parcel as this action If an action or option cannot be located on the same area, you may be able to do it on a different area in the same land parcel You can do the following actions or options on the eligible boundaries of a land parcel entered into this action: Don’t include personal or financial information like your National Insurance number or credit card details',\n",
       "  'metadata': {'topic': \"'Land Parcel Management Options'\",\n",
       "   'chunk_id': np.int64(4)}},\n",
       " {'id': 'chunk_7',\n",
       "  'content': 'For example, winter cover followed by a summer companion crop',\n",
       "  'metadata': {'topic': 'Crop Rotation Practices', 'chunk_id': np.int64(6)}}]"
      ]
     },
     "execution_count": 25,
     "metadata": {},
     "output_type": "execute_result"
    }
   ],
   "source": [
    "documents"
   ]
  },
  {
   "cell_type": "code",
   "execution_count": null,
   "metadata": {},
   "outputs": [],
   "source": []
  }
 ],
 "metadata": {
  "kernelspec": {
   "display_name": ".venv",
   "language": "python",
   "name": "python3"
  },
  "language_info": {
   "codemirror_mode": {
    "name": "ipython",
    "version": 3
   },
   "file_extension": ".py",
   "mimetype": "text/x-python",
   "name": "python",
   "nbconvert_exporter": "python",
   "pygments_lexer": "ipython3",
   "version": "3.12.7"
  }
 },
 "nbformat": 4,
 "nbformat_minor": 2
}
